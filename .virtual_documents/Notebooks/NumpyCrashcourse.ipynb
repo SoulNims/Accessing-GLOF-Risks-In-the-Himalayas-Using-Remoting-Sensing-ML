import numpy as np


arr1=np.array([1,2,3,4])


type(arr1)


arr2=np.array([[1,2,3],[2,3,4]])


arr2


type(arr2)


arr3=np.zeros((2,3))


arr3


arr4=np.ones((3,3))
arr4


arr5=np.identity(5)
arr5


arr6=np.arange(10)
arr6


arr7=np.arange(5,10)
arr7


arr8=np.arange(0,10,2)
arr8


arr9=np.linspace(0,20,5)
arr9


arr10=arr9.copy()
arr10





arr1.shape


arr11=np.array([[[1,1],[2,2]],[[3,3],[4,4]]])
arr11


arr11.shape


arr11.ndim


#size=total number of elements in the array
arr1.size


arr11.size


#itemsize=gives the size of one element in the array
arr1.itemsize


arr11.itemsize
arr11.dtype


arr11_int=arr11.astype(np.int32)
arr11_int.dtype


arr11_int.itemsize


arr11_int.dtype


arr11_int.astype('float')
arr11_int.dtype


# python lists vs Numpy Arrays


lista=range(100)
arra=np.arange(100)


import sys


print(sys.getsizeof(38)*len(lista))


print(sys.getsizeof(55)*len(arra))


print(arra.itemsize*arra.size)





#.reshape()

arr14=np.arange(24)
arr14


arr14.reshape(4,6)


arr15=arr14.reshape(6,4)
arr15


arr15[3]


arr15[:]


arr15[2:4,1:3]


for i in arr15:
    print(i)


for i in np.nditer(arr15):
    print(i)





arr14=np.arange(7)[1:]
arr15=np.arange(10)[4:]


arr14


arr15


arr14-arr15


#vector multiplication
arr14*arr15


#scalar multiplication
arr14*2


arr14>3


arr14.min()


arr14.max()


arr14.max(axis=0)





arr14=np.arange(12,18).reshape(2,3)
arr14


arr15=np.arange(5,11).reshape(2,3)
arr15


#ravel: returns 1d view of the array
arr14.ravel()


#transpose: swaps rows for columns
arr14.transpose()


#stack: horizontal and vertical


np.hstack((arr14,arr15))


np.vstack((arr14,arr15))


#splitting


np.hsplit(arr14,3)



np.vsplit(arr15,2)


#fancy indexing


arr15[[0,1]]


arr17=np.arange(1,16).reshape(3,5)
arr17


arr17[[0,2]]


arr17[:,[2,4,1]]


#Indexing using boolean arrays


arr17>5


arr17[arr17>5]


arr17[(arr17>=6) & (arr17<=14)]


arr17[(arr17>=6) & (arr17<=14)]=0


arr17


#plotting graphs using Numpy


x=np.linspace(-40,40,100)


x



y=np.sin(x)


import matplotlib.pyplot as plt
%matplotlib inline


plt.plot(x,y)
plt.show()


#Broadcasting


#Some important Numpy Functions


np.random.random()


#if you want same random number everytime.


np.random.seed(798619)
np.random.random()


np.random.uniform(3,10)


a=np.random.randint(0,50,10).reshape(5,2)
a


np.random.randint(1,50)


np.max(a)


np.argmax(a)


b=np.ravel(a)
print(b)


np.where(b%2==0,1,0)


a=np.sort(a)
a


np.percentile(a,25)



