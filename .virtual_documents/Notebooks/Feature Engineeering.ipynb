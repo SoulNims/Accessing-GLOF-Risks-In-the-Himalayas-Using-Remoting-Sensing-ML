


import pandas as pd
import numpy as np


pd.set_option("display.max_columns", None)
pd.set_option("display.max_rows", 10)





uncleaned_ml_pos=pd.read_csv("uncleaned_ml_pos.csv")
uncleaned_ml_neg=pd.read_csv("uncleaned_ml_neg.csv")



uncleaned_ml_pos.shape



uncleaned_ml_neg.shape


print("Uncleaned_ml_pos.shape=",uncleaned_ml_pos.shape)
print("Uncleaned_ml_neg.shape=",uncleaned_ml_neg.shape)





pd.get_dummies(uncleaned_ml_pos,columns=['Lake_type_simplified','is_supraglacial','glacier_contact'])


K-1 One hot encoding


pd.get_dummies(uncleaned_ml_pos,columns=['Lake_type_simplified','is_supraglacial','glacier_contact'],drop_first=True)








import pandas as pd
import numpy as np


ml_pos_y_drop=pd.read_csv("../CSVs/ml_pos_y_drop.csv")
ml_neg_y_drop=pd.read_csv("../CSVs/ml_neg_y_drop.csv")
ml_comb_y_drop=pd.read_csv("../CSVs/ml_comb_y_drop.csv")





ml_pos_y_drop.isnull().mean()*100


ml_neg_y_drop.isnull().mean()*100


ml_comb_y_drop.isnull().mean()*100















