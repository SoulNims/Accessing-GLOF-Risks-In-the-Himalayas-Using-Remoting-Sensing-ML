


import pandas as pd
import numpy as np


pd.set_option("display.max_columns", None)
pd.set_option("display.max_rows", 10)





uncleaned_ml_pos=pd.read_csv("uncleaned_ml_pos.csv")
uncleaned_ml_neg=pd.read_csv("uncleaned_ml_neg.csv")



uncleaned_ml_pos.shape



uncleaned_ml_neg.shape


print("Uncleaned_ml_pos.shape=",uncleaned_ml_pos.shape)
print("Uncleaned_ml_neg.shape=",uncleaned_ml_neg.shape)





pd.get_dummies(uncleaned_ml_pos,columns=['Lake_type_simplified','is_supraglacial','glacier_contact'])


K-1 One hot encoding


pd.get_dummies(uncleaned_ml_pos,columns=['Lake_type_simplified','is_supraglacial','glacier_contact'],drop_first=True)














uncleaned_ml_pos=pd.read_csv("uncleaned_ml_pos.csv")
uncleaned_ml_neg=pd.read_csv("uncleaned_ml_neg.csv")


uncleaned_ml_pos.isnull().mean()*100


uncleaned_ml_neg.isnull().mean()*100


uncleaned_ml_combined=pd.read_csv("uncleaned_ml_combined.csv")
uncleaned_ml_combined.isnull().mean()*100















