import pandas as pd
import numpy as np


df1=pd.read_csv("../CSVs/df_final_with_laketypesorted_pre.csv")
df1


df2=pd.read_csv("../CSVs/uncleaned_ml_combined.csv")
df2


import numpy as np
from sklearn.metrics import mean_squared_error, r2_score
import matplotlib.pyplot as plt

mask = (~df1["Lake_area_ha"].isna()) & (~df2["Lake_area_calculated_ha"].isna())
true_area = df1.loc[mask, "Lake_area_ha"]
calc_area = df2.loc[mask, "Lake_area_calculated_ha"]

# Metrics
corr = np.corrcoef(true_area, calc_area)[0,1]
r2 = r2_score(true_area, calc_area)
rmse = np.sqrt(mean_squared_error(true_area, calc_area))

print(f"Correlation (r): {corr:.3f}")
print(f"R²: {r2:.3f}")
print(f"RMSE: {rmse:.2f} ha")

# Scatter plot
plt.figure(figsize=(6,6))
plt.scatter(true_area, calc_area, alpha=0.4)
plt.plot([0, max(true_area.max(), calc_area.max())],
         [0, max(true_area.max(), calc_area.max())],
         'r--', label="1:1 line")
plt.xlabel("Reported Lake Area (ha)")
plt.ylabel("NDWI-Derived Lake Area (ha)")
plt.title("NDWI Validation vs. Reported Lake Areas")
plt.legend()
plt.grid(True)
plt.show()




