import numpy as np


arr1=np.array([1,2,3,4])


type(arr1)


arr2=np.array([[1,2,3],[2,3,4]])


arr2


type(arr2)


arr3=np.zeros((2,3))


arr3


arr4=np.ones((3,3))
arr4


arr5=np.identity(5)
arr5


arr6=np.arange(10)
arr6


arr7=np.arange(5,10)
arr7


arr8=np.arange(0,10,2)
arr8


arr9=np.linspace(0,20,5)
arr9


arr10=arr9.copy()
arr10





arr1.shape


arr11=np.array([[[1,1],[2,2]],[[3,3],[4,4]]])
arr11


arr11.shape


arr11.ndim


#size=total number of elements in the array
arr1.size


arr11.size


#itemsize=gives the size of one element in the array
arr1.itemsize


arr11.itemsize
arr11.dtype


arr11_int=arr11.astype(np.int32)
arr11_int.dtype


arr11_int.itemsize


arr11_int.dtype


arr11_int.astype('float')
arr11_int.dtype



