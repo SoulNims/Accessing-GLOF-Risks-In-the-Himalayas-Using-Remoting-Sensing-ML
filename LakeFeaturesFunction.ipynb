{
 "cells": [
  {
   "cell_type": "code",
   "execution_count": null,
   "id": "5d78fa20-be2b-435d-a8a6-93905c34deb9",
   "metadata": {},
   "outputs": [],
   "source": [
    "#GEE Authentication and Initialization"
   ]
  },
  {
   "cell_type": "code",
   "execution_count": 2,
   "id": "d6288a25-cb03-4764-9204-72e661049da0",
   "metadata": {},
   "outputs": [],
   "source": [
    "import ee\n",
    "import geemap"
   ]
  },
  {
   "cell_type": "code",
   "execution_count": 3,
   "id": "50abffd0-b57a-4fba-ae58-d08ae58dc075",
   "metadata": {},
   "outputs": [
    {
     "data": {
      "text/html": [
       "\n",
       "            <style>\n",
       "                .geemap-dark {\n",
       "                    --jp-widgets-color: white;\n",
       "                    --jp-widgets-label-color: white;\n",
       "                    --jp-ui-font-color1: white;\n",
       "                    --jp-layout-color2: #454545;\n",
       "                    background-color: #383838;\n",
       "                }\n",
       "\n",
       "                .geemap-dark .jupyter-button {\n",
       "                    --jp-layout-color3: #383838;\n",
       "                }\n",
       "\n",
       "                .geemap-colab {\n",
       "                    background-color: var(--colab-primary-surface-color, white);\n",
       "                }\n",
       "\n",
       "                .geemap-colab .jupyter-button {\n",
       "                    --jp-layout-color3: var(--colab-primary-surface-color, white);\n",
       "                }\n",
       "            </style>\n",
       "            "
      ],
      "text/plain": [
       "<IPython.core.display.HTML object>"
      ]
     },
     "metadata": {},
     "output_type": "display_data"
    },
    {
     "data": {
      "text/html": [
       "<p>To authorize access needed by Earth Engine, open the following\n",
       "        URL in a web browser and follow the instructions:</p>\n",
       "        <p><a href=https://code.earthengine.google.com/client-auth?scopes=https%3A//www.googleapis.com/auth/earthengine%20https%3A//www.googleapis.com/auth/cloud-platform%20https%3A//www.googleapis.com/auth/drive%20https%3A//www.googleapis.com/auth/devstorage.full_control&request_id=gZcaEP3NGWh7EoX64m-kXlkMdPie8q5anTZcF9JWWBM&tc=KchHOmcOpbRgYfeq3iK0bMioufqYkv1Hc5fpR9icwNM&cc=9hFllMPu4v79GtH9k_VPZ2sXoUYJ7MYyX-k8eAsR_mA>https://code.earthengine.google.com/client-auth?scopes=https%3A//www.googleapis.com/auth/earthengine%20https%3A//www.googleapis.com/auth/cloud-platform%20https%3A//www.googleapis.com/auth/drive%20https%3A//www.googleapis.com/auth/devstorage.full_control&request_id=gZcaEP3NGWh7EoX64m-kXlkMdPie8q5anTZcF9JWWBM&tc=KchHOmcOpbRgYfeq3iK0bMioufqYkv1Hc5fpR9icwNM&cc=9hFllMPu4v79GtH9k_VPZ2sXoUYJ7MYyX-k8eAsR_mA</a></p>\n",
       "        <p>The authorization workflow will generate a code, which you should paste in the box below.</p>\n",
       "        "
      ],
      "text/plain": [
       "<IPython.core.display.HTML object>"
      ]
     },
     "metadata": {},
     "output_type": "display_data"
    },
    {
     "name": "stdin",
     "output_type": "stream",
     "text": [
      "Enter verification code:  4/1AVMBsJhGUcN37NGwtGtBLB9frBz2YDhqJPUA3utDdDy82hKzf4fmgfSZBcE\n"
     ]
    },
    {
     "name": "stdout",
     "output_type": "stream",
     "text": [
      "\n",
      "Successfully saved authorization token.\n"
     ]
    }
   ],
   "source": [
    "ee.Authenticate()\n",
    "ee.Initialize(project='fleet-hawk-463015-h5')"
   ]
  },
  {
   "cell_type": "code",
   "execution_count": null,
   "id": "6362461b-8775-4067-93e2-55063d7c6c25",
   "metadata": {},
   "outputs": [],
   "source": [
    "#feature Collection Functions:"
   ]
  },
  {
   "cell_type": "code",
   "execution_count": null,
   "id": "659e0898-33da-46a1-bae2-d476850482e4",
   "metadata": {},
   "outputs": [],
   "source": [
    "#ndwi from a point+Area Calculation"
   ]
  },
  {
   "cell_type": "code",
   "execution_count": 4,
   "id": "46326db0-b9e2-4919-b20f-34ab41509b1e",
   "metadata": {},
   "outputs": [
    {
     "data": {
      "text/html": [
       "\n",
       "            <style>\n",
       "                .geemap-dark {\n",
       "                    --jp-widgets-color: white;\n",
       "                    --jp-widgets-label-color: white;\n",
       "                    --jp-ui-font-color1: white;\n",
       "                    --jp-layout-color2: #454545;\n",
       "                    background-color: #383838;\n",
       "                }\n",
       "\n",
       "                .geemap-dark .jupyter-button {\n",
       "                    --jp-layout-color3: #383838;\n",
       "                }\n",
       "\n",
       "                .geemap-colab {\n",
       "                    background-color: var(--colab-primary-surface-color, white);\n",
       "                }\n",
       "\n",
       "                .geemap-colab .jupyter-button {\n",
       "                    --jp-layout-color3: var(--colab-primary-surface-color, white);\n",
       "                }\n",
       "            </style>\n",
       "            "
      ],
      "text/plain": [
       "<IPython.core.display.HTML object>"
      ]
     },
     "metadata": {},
     "output_type": "display_data"
    }
   ],
   "source": [
    "#------------Final Detect_lake_from_point------------#ddd\n",
    "import ee\n",
    "import pandas as pd\n",
    "\n",
    "\n",
    "def detect_lake_from_point(point, year, search_radius=3000, ndwi_thresh=0.25):\n",
    "    aoi = point.buffer(search_radius)\n",
    "\n",
    "    def mask_landsat_clouds(img):\n",
    "        qa = img.select('QA_PIXEL')\n",
    "        cloud        = 1 << 3\n",
    "        cloud_shadow = 1 << 4\n",
    "        snow         = 1 << 5\n",
    "        mask = (qa.bitwiseAnd(cloud).eq(0)\n",
    "                  .And(qa.bitwiseAnd(cloud_shadow).eq(0))\n",
    "                  .And(qa.bitwiseAnd(snow).eq(0)))\n",
    "        return img.updateMask(mask)\n",
    "\n",
    "    def scale_sr(img):\n",
    "        optical = img.select('SR_B[0-9]*').multiply(0.0000275).add(-0.2)\n",
    "        return img.addBands(optical, overwrite=True)\n",
    "\n",
    "    # --- NDWI depending on collection ---\n",
    "    def add_ndwi(img, sensor):\n",
    "        if sensor in [\"LC08\", \"LC09\"]:   # Landsat 8/9\n",
    "            green, nir = 'SR_B3', 'SR_B5'\n",
    "        else:                            # Landsat 5/7\n",
    "            green, nir = 'SR_B2', 'SR_B4'\n",
    "        ndwi = img.normalizedDifference([green, nir]).rename('NDWI')\n",
    "        return img.addBands(ndwi)\n",
    "\n",
    "\n",
    "    # --- Choose the correct Landsat collection ---\n",
    "    def get_collection_id(y):\n",
    "        if y <= 2011:\n",
    "            return \"LANDSAT/LT05/C02/T1_L2\"   # Landsat 5\n",
    "        elif y == 2012:\n",
    "            return \"LANDSAT/LE07/C02/T1_L2\"   # Landsat 7\n",
    "        else:\n",
    "            return \"LANDSAT/LC08/C02/T1_L2\"   # Landsat 8/9\n",
    "\n",
    "    def get_fall_collection(y):\n",
    "        coll_id = get_collection_id(y)\n",
    "        sensor = coll_id.split(\"/\")[1][:4]  # e.g. LC08, LT05, LE07\n",
    "        return (ee.ImageCollection(coll_id)\n",
    "            .filterDate(f\"{y}-08-01\", f\"{y}-12-31\")\n",
    "            .filterBounds(aoi)\n",
    "            .map(mask_landsat_clouds)\n",
    "            .map(scale_sr)\n",
    "            .map(lambda img: add_ndwi(img, sensor)))\n",
    "\n",
    "    # --- Combine 3 years ---\n",
    "    collection = (get_fall_collection(year-1)\n",
    "                  .merge(get_fall_collection(year))\n",
    "                  .merge(get_fall_collection(year+1)))\n",
    "\n",
    "    if collection.size().getInfo() == 0:\n",
    "        return {'lake_fc': ee.FeatureCollection([]), 'area_ha': None}\n",
    "\n",
    "    # --- Median composite ---\n",
    "    ndwi_median = collection.select('NDWI').median().clip(aoi)\n",
    "    water_mask = ndwi_median.gt(ndwi_thresh)\n",
    "\n",
    "    lake_fc_all = water_mask.selfMask().reduceToVectors(\n",
    "        geometry=aoi,\n",
    "        scale=30,\n",
    "        geometryType='polygon',\n",
    "        reducer=ee.Reducer.countEvery(),\n",
    "        maxPixels=1e13\n",
    "    )\n",
    "\n",
    "    def add_area(f):\n",
    "        return f.set('area_ha', f.geometry().area(maxError=1).divide(1e4))\n",
    "    lake_fc_all = lake_fc_all.map(add_area)\n",
    "\n",
    "    largest = ee.Feature(lake_fc_all.sort('area_ha', False).first())\n",
    "\n",
    "    return {\n",
    "        'lake_fc': ee.Algorithms.If(\n",
    "            largest,\n",
    "            ee.FeatureCollection([largest]),\n",
    "            ee.FeatureCollection([])\n",
    "        ),\n",
    "        'area_ha': ee.Algorithms.If(largest, largest.get('area_ha'), None),\n",
    "        'ndwi_median': ndwi_median\n",
    "    }\n"
   ]
  },
  {
   "cell_type": "code",
   "execution_count": null,
   "id": "b2ca0fab-317c-4183-adb1-b7c0d70a740e",
   "metadata": {},
   "outputs": [],
   "source": []
  },
  {
   "cell_type": "code",
   "execution_count": null,
   "id": "70c84252-f49d-41cd-b268-457c3fbfaf79",
   "metadata": {},
   "outputs": [],
   "source": [
    "#Lake Expansion "
   ]
  },
  {
   "cell_type": "code",
   "execution_count": 5,
   "id": "2b81c07f-af85-4003-8df1-4ac15a06d309",
   "metadata": {},
   "outputs": [
    {
     "data": {
      "text/html": [
       "\n",
       "            <style>\n",
       "                .geemap-dark {\n",
       "                    --jp-widgets-color: white;\n",
       "                    --jp-widgets-label-color: white;\n",
       "                    --jp-ui-font-color1: white;\n",
       "                    --jp-layout-color2: #454545;\n",
       "                    background-color: #383838;\n",
       "                }\n",
       "\n",
       "                .geemap-dark .jupyter-button {\n",
       "                    --jp-layout-color3: #383838;\n",
       "                }\n",
       "\n",
       "                .geemap-colab {\n",
       "                    background-color: var(--colab-primary-surface-color, white);\n",
       "                }\n",
       "\n",
       "                .geemap-colab .jupyter-button {\n",
       "                    --jp-layout-color3: var(--colab-primary-surface-color, white);\n",
       "                }\n",
       "            </style>\n",
       "            "
      ],
      "text/plain": [
       "<IPython.core.display.HTML object>"
      ]
     },
     "metadata": {},
     "output_type": "display_data"
    }
   ],
   "source": [
    "def expansion_rate(point, ref_year, search_radius=3000, ndwi_thresh=0.3):\n",
    "    \"\"\"\n",
    "    Calculate 10-year expansion rate of a non-GLOF lake (ha/year).\n",
    "\n",
    "    - ref_year: e.g., 2020\n",
    "    - recent window: (ref_year-1, ref_year, ref_year+1)\n",
    "    - past window:   (ref_year-11, ref_year-10, ref_year-9)\n",
    "    - search_radius default set to 3000 m\n",
    "    \"\"\"\n",
    "    \n",
    "    # --- Recent ---\n",
    "    recent = detect_lake_from_point(point, ref_year,\n",
    "                                    search_radius=search_radius,\n",
    "                                    ndwi_thresh=ndwi_thresh)\n",
    "    area_recent = recent[\"area_ha\"].getInfo() if recent[\"area_ha\"] else None\n",
    "    \n",
    "    # --- Past (10 years earlier) ---\n",
    "    past_year = ref_year - 10\n",
    "    past = detect_lake_from_point(point, past_year,\n",
    "                                  search_radius=search_radius,\n",
    "                                  ndwi_thresh=ndwi_thresh)\n",
    "    area_past = past[\"area_ha\"].getInfo() if past[\"area_ha\"] else None\n",
    "    \n",
    "    # --- Expansion rate ---\n",
    "    if area_recent is None or area_past is None:\n",
    "        print(f\"[{ref_year}] Could not compute area(s). \"\n",
    "              f\"Recent={area_recent}, Past={area_past}\")\n",
    "        return None\n",
    "    \n",
    "    Expansion_rate = (area_recent - area_past) / 10.0   # ha per year\n",
    "    \n",
    "    # --- Print for checking ---\n",
    "    print(f\"Ref year {ref_year}: Past={area_past:.2f} ha | \"\n",
    "          f\"Recent={area_recent:.2f} ha | \"\n",
    "          f\"Expansion={rate:.2f} ha/yr\")\n",
    "    \n",
    "    return Expansion_rate, area_recent, area_past"
   ]
  },
  {
   "cell_type": "code",
   "execution_count": null,
   "id": "6ca60e65-1d8b-483f-ae43-3a535be1cdfd",
   "metadata": {},
   "outputs": [],
   "source": []
  },
  {
   "cell_type": "code",
   "execution_count": null,
   "id": "b4596601-33ca-4c69-99d2-ebddbefde934",
   "metadata": {},
   "outputs": [],
   "source": []
  },
  {
   "cell_type": "code",
   "execution_count": null,
   "id": "67d980af-e68b-4e8c-82bf-83097727a816",
   "metadata": {},
   "outputs": [],
   "source": []
  },
  {
   "cell_type": "code",
   "execution_count": null,
   "id": "96d9f567-fac2-4edc-89a8-921975c8d9a4",
   "metadata": {},
   "outputs": [],
   "source": []
  },
  {
   "cell_type": "code",
   "execution_count": null,
   "id": "76531893-cb7c-4aa9-8091-7ca60c42a9ea",
   "metadata": {},
   "outputs": [],
   "source": []
  },
  {
   "cell_type": "code",
   "execution_count": null,
   "id": "be35505b-4264-46eb-b446-2db80f314093",
   "metadata": {},
   "outputs": [],
   "source": []
  },
  {
   "cell_type": "code",
   "execution_count": null,
   "id": "d7caaa86-d695-4d0f-926b-ffdbe52a7dd6",
   "metadata": {},
   "outputs": [],
   "source": []
  },
  {
   "cell_type": "code",
   "execution_count": null,
   "id": "90a95823-0565-45d9-bddb-f7160b46985f",
   "metadata": {},
   "outputs": [],
   "source": []
  },
  {
   "cell_type": "code",
   "execution_count": null,
   "id": "5ab31b0d-23ee-4846-91f5-cdd00d965b5c",
   "metadata": {},
   "outputs": [],
   "source": []
  },
  {
   "cell_type": "code",
   "execution_count": null,
   "id": "8da6c49d-445c-450f-8788-967bfeac861a",
   "metadata": {},
   "outputs": [],
   "source": []
  },
  {
   "cell_type": "code",
   "execution_count": null,
   "id": "e5478ab2-7973-41d5-ba94-3a3621b2e211",
   "metadata": {},
   "outputs": [],
   "source": []
  },
  {
   "cell_type": "code",
   "execution_count": null,
   "id": "8bb54e10-ad36-4232-bab7-de5060a142ab",
   "metadata": {},
   "outputs": [],
   "source": []
  },
  {
   "cell_type": "code",
   "execution_count": null,
   "id": "01e6021d-9eef-4aaa-afcf-0669dde60620",
   "metadata": {},
   "outputs": [],
   "source": []
  },
  {
   "cell_type": "code",
   "execution_count": null,
   "id": "c78db9ad-80b0-4a06-a593-e36437acc13b",
   "metadata": {},
   "outputs": [],
   "source": []
  },
  {
   "cell_type": "code",
   "execution_count": null,
   "id": "8c85034e-738c-46f9-95fb-ede12ff222d1",
   "metadata": {},
   "outputs": [],
   "source": []
  },
  {
   "cell_type": "code",
   "execution_count": null,
   "id": "cacd4a43-4e9a-486e-8da0-c16149cff587",
   "metadata": {},
   "outputs": [],
   "source": []
  },
  {
   "cell_type": "code",
   "execution_count": null,
   "id": "fd554595-a1f6-46da-b791-2dd1d4a2522f",
   "metadata": {},
   "outputs": [],
   "source": []
  },
  {
   "cell_type": "code",
   "execution_count": null,
   "id": "702d2f91-0bbd-4ff2-ac07-d5d995454fa7",
   "metadata": {},
   "outputs": [],
   "source": []
  },
  {
   "cell_type": "code",
   "execution_count": null,
   "id": "541adb9e-4c1c-4149-b170-e8b155664244",
   "metadata": {},
   "outputs": [],
   "source": []
  },
  {
   "cell_type": "code",
   "execution_count": null,
   "id": "6e866b52-f33f-4c6a-a5a5-e9dd8534b4dc",
   "metadata": {},
   "outputs": [],
   "source": []
  },
  {
   "cell_type": "code",
   "execution_count": null,
   "id": "7bb08c2b-875e-408d-a6ac-515a378f38a0",
   "metadata": {},
   "outputs": [],
   "source": []
  },
  {
   "cell_type": "code",
   "execution_count": null,
   "id": "6d813fb8-c0bc-4c34-85e8-9fc675f0d961",
   "metadata": {},
   "outputs": [],
   "source": []
  },
  {
   "cell_type": "code",
   "execution_count": null,
   "id": "77961e24-007c-47b1-90fa-453ef8a77034",
   "metadata": {},
   "outputs": [],
   "source": []
  },
  {
   "cell_type": "code",
   "execution_count": null,
   "id": "dd324b74-3245-4dd7-a0da-46efd6a9a280",
   "metadata": {},
   "outputs": [],
   "source": []
  },
  {
   "cell_type": "code",
   "execution_count": null,
   "id": "88f40054-bf3f-4adb-b2e3-4c8ae0cb65f3",
   "metadata": {},
   "outputs": [],
   "source": []
  },
  {
   "cell_type": "code",
   "execution_count": null,
   "id": "6fc652aa-fa75-4db8-b0f9-aac6eaa734d2",
   "metadata": {},
   "outputs": [],
   "source": []
  },
  {
   "cell_type": "raw",
   "id": "f6ec61c9-c2e8-4fda-a293-506b1970fb41",
   "metadata": {},
   "source": [
    "#glacier features:"
   ]
  },
  {
   "cell_type": "code",
   "execution_count": null,
   "id": "bff490fe-23e9-4f70-ba2d-4065fc3a2de8",
   "metadata": {},
   "outputs": [],
   "source": [
    "#gets the nearest glacier polygons to lake \"polygon\" and if not touch just gets the closest glacier's info:"
   ]
  },
  {
   "cell_type": "code",
   "execution_count": 14,
   "id": "be6843d0-846d-4fe8-a4b0-d653479f21d0",
   "metadata": {},
   "outputs": [
    {
     "data": {
      "text/html": [
       "\n",
       "            <style>\n",
       "                .geemap-dark {\n",
       "                    --jp-widgets-color: white;\n",
       "                    --jp-widgets-label-color: white;\n",
       "                    --jp-ui-font-color1: white;\n",
       "                    --jp-layout-color2: #454545;\n",
       "                    background-color: #383838;\n",
       "                }\n",
       "\n",
       "                .geemap-dark .jupyter-button {\n",
       "                    --jp-layout-color3: #383838;\n",
       "                }\n",
       "\n",
       "                .geemap-colab {\n",
       "                    background-color: var(--colab-primary-surface-color, white);\n",
       "                }\n",
       "\n",
       "                .geemap-colab .jupyter-button {\n",
       "                    --jp-layout-color3: var(--colab-primary-surface-color, white);\n",
       "                }\n",
       "            </style>\n",
       "            "
      ],
      "text/plain": [
       "<IPython.core.display.HTML object>"
      ]
     },
     "metadata": {},
     "output_type": "display_data"
    }
   ],
   "source": [
    "def get_nearest_glacier(lake_geom, buffer_km=50):\n",
    "    \"\"\"\n",
    "    Given a lake polygon, finds nearest or touching glacier(s).\n",
    "    Returns consistent features for ML:\n",
    "      - glacier_contact (bool)\n",
    "      - nearest_glacier_dist_m\n",
    "      - lake_elev_m\n",
    "      - glacier_elev_m (from chosen glacier)\n",
    "      - slope_glac_to_lake (rise/run, slope=0 if touching)\n",
    "      - glacier_area_km2 (sum of all touching glaciers, or area of nearest one)\n",
    "      - glacier_ids (list of GLIMS IDs for touching glaciers, or [nearest_id])\n",
    "    \"\"\"\n",
    "    glaciers = ee.FeatureCollection(\"GLIMS/current\")\n",
    "    dem = ee.Image(\"USGS/SRTMGL1_003\")\n",
    "\n",
    "    # Filter glaciers within buffer\n",
    "    nearby = glaciers.filterBounds(lake_geom.buffer(buffer_km * 1000))\n",
    "\n",
    "    # Glaciers that touch/intersect the lake\n",
    "    touching = nearby.filterBounds(lake_geom)\n",
    "\n",
    "    # --- Case 1: touching glaciers ---\n",
    "    if touching.size().getInfo() > 0:\n",
    "        # Add area for each\n",
    "        def add_area(f):\n",
    "            return f.set(\"glacier_area_km2\", f.geometry().area(maxError=30).divide(1e6))\n",
    "        touching = touching.map(add_area)\n",
    "\n",
    "        # Glacier with largest area (used for slope reference)\n",
    "        largest_touching = ee.Feature(touching.sort(\"glacier_area_km2\", False).first())\n",
    "\n",
    "        # Collect all glacier IDs\n",
    "        glacier_ids = touching.aggregate_array(\"glac_id\").getInfo()\n",
    "\n",
    "        # Metrics\n",
    "        combined_area = touching.aggregate_sum(\"glacier_area_km2\").getInfo()\n",
    "        lake_elev = dem.sample(lake_geom.centroid(maxError=30), 30).first().get(\"elevation\").getInfo()\n",
    "        glac_elev = dem.sample(largest_touching.geometry().centroid(maxError=30), 30).first().get(\"elevation\").getInfo()\n",
    "\n",
    "        return {\n",
    "            \"glacier_contact\": True,\n",
    "            \"nearest_glacier_dist_m\": 0,   # touching → distance = 0\n",
    "            \"lake_elev_m\": lake_elev,\n",
    "            \"glacier_elev_m\": glac_elev,\n",
    "            \"slope_glac_to_lake\": 0,      # standardized → slope=0 when touching\n",
    "            \"glacier_area_km2\": combined_area,   # sum of all touching glaciers\n",
    "            \"glacier_ids\": glacier_ids    # all touching glaciers\n",
    "        }\n",
    "\n",
    "    # --- Case 2: no touching glaciers ---\n",
    "    else:\n",
    "        # Compute distances\n",
    "        with_dist = nearby.map(lambda g: g.set(\"dist\", g.geometry().distance(lake_geom, maxError=30)))\n",
    "        nearest = ee.Feature(with_dist.sort(\"dist\").first())\n",
    "\n",
    "        # Metrics\n",
    "        distance = nearest.get(\"dist\").getInfo()\n",
    "        area_km2 = nearest.geometry().area(maxError=30).divide(1e6).getInfo()\n",
    "        lake_elev = dem.sample(lake_geom.centroid(maxError=30), 30).first().get(\"elevation\").getInfo()\n",
    "        glac_elev = dem.sample(nearest.geometry().centroid(maxError=30), 30).first().get(\"elevation\").getInfo()\n",
    "\n",
    "        slope = (glac_elev - lake_elev) / distance if (lake_elev and glac_elev and distance > 0) else None\n",
    "\n",
    "        return {\n",
    "            \"glacier_contact\": False,\n",
    "            \"nearest_glacier_dist_m\": distance,\n",
    "            \"lake_elev_m\": lake_elev,\n",
    "            \"glacier_elev_m\": glac_elev,\n",
    "            \"slope_glac_to_lake\": slope,\n",
    "            \"glacier_area_km2\": area_km2,\n",
    "            \"glacier_ids\": [nearest.get(\"glac_id\").getInfo()]  # single nearest glacier\n",
    "        }\n",
    "\n",
    "\n"
   ]
  },
  {
   "cell_type": "code",
   "execution_count": null,
   "id": "9aae3701-7a1b-4c11-8102-4c7cdefefe43",
   "metadata": {},
   "outputs": [],
   "source": []
  },
  {
   "cell_type": "code",
   "execution_count": 15,
   "id": "862cb20a-7299-48b0-b165-658bd8be9fe0",
   "metadata": {},
   "outputs": [
    {
     "data": {
      "text/html": [
       "\n",
       "            <style>\n",
       "                .geemap-dark {\n",
       "                    --jp-widgets-color: white;\n",
       "                    --jp-widgets-label-color: white;\n",
       "                    --jp-ui-font-color1: white;\n",
       "                    --jp-layout-color2: #454545;\n",
       "                    background-color: #383838;\n",
       "                }\n",
       "\n",
       "                .geemap-dark .jupyter-button {\n",
       "                    --jp-layout-color3: #383838;\n",
       "                }\n",
       "\n",
       "                .geemap-colab {\n",
       "                    background-color: var(--colab-primary-surface-color, white);\n",
       "                }\n",
       "\n",
       "                .geemap-colab .jupyter-button {\n",
       "                    --jp-layout-color3: var(--colab-primary-surface-color, white);\n",
       "                }\n",
       "            </style>\n",
       "            "
      ],
      "text/plain": [
       "<IPython.core.display.HTML object>"
      ]
     },
     "metadata": {},
     "output_type": "display_data"
    }
   ],
   "source": [
    "#visualize glacier features:"
   ]
  },
  {
   "cell_type": "code",
   "execution_count": 16,
   "id": "932ae648-15e5-43f3-a024-605907aac2dd",
   "metadata": {},
   "outputs": [
    {
     "data": {
      "text/html": [
       "\n",
       "            <style>\n",
       "                .geemap-dark {\n",
       "                    --jp-widgets-color: white;\n",
       "                    --jp-widgets-label-color: white;\n",
       "                    --jp-ui-font-color1: white;\n",
       "                    --jp-layout-color2: #454545;\n",
       "                    background-color: #383838;\n",
       "                }\n",
       "\n",
       "                .geemap-dark .jupyter-button {\n",
       "                    --jp-layout-color3: #383838;\n",
       "                }\n",
       "\n",
       "                .geemap-colab {\n",
       "                    background-color: var(--colab-primary-surface-color, white);\n",
       "                }\n",
       "\n",
       "                .geemap-colab .jupyter-button {\n",
       "                    --jp-layout-color3: var(--colab-primary-surface-color, white);\n",
       "                }\n",
       "            </style>\n",
       "            "
      ],
      "text/plain": [
       "<IPython.core.display.HTML object>"
      ]
     },
     "metadata": {},
     "output_type": "display_data"
    }
   ],
   "source": [
    "def visualize_glacierE(lake_geom, glacier_info, zoom=11):\n",
    "    \"\"\"\n",
    "    Visualize the lake polygon, glaciers (touching or nearest), and connection line.\n",
    "    Compatible with the new get_nearest_glacier() output.\n",
    "    \"\"\"\n",
    "    # Base map\n",
    "    center = lake_geom.centroid(maxError=30).coordinates().getInfo()[::-1]  # [lat, lon]\n",
    "    m = geemap.Map(center=center, zoom=zoom)\n",
    "    m.add_basemap(\"SATELLITE\")\n",
    "\n",
    "    # DEM overlay (SRTM 30m)\n",
    "    dem = ee.Image(\"USGS/SRTMGL1_003\")\n",
    "    dem_vis = {\n",
    "        \"min\": 4000,\n",
    "        \"max\": 6000,\n",
    "        \"palette\": [\"blue\", \"green\", \"yellow\", \"orange\", \"red\", \"white\"]\n",
    "    }\n",
    "    m.addLayer(dem, dem_vis, \"DEM Elevation\")\n",
    "\n",
    "    # Lake polygon\n",
    "    m.addLayer(lake_geom, {\"color\": \"cyan\"}, \"Lake Polygon\")\n",
    "\n",
    "    if glacier_info[\"touching\"]:\n",
    "        # --- Case 1: Touching glaciers ---\n",
    "        largest_overlap = ee.Feature(glacier_info[\"largest_overlap_glacier\"])\n",
    "        m.addLayer(largest_overlap.geometry(), {\"color\": \"purple\"}, \"Largest Overlap Glacier\")\n",
    "\n",
    "    else:\n",
    "        # --- Case 2: Nearest glacier ---\n",
    "        nearest = ee.Feature(glacier_info[\"nearest_glacier\"])\n",
    "        nearest_point = nearest.geometry().centroid(maxError=30)\n",
    "        lake_centroid = lake_geom.centroid(maxError=30)\n",
    "\n",
    "        # Buffers\n",
    "        m.addLayer(lake_centroid.buffer(200), {\"color\": \"black\"}, \"Lake Centroid\")\n",
    "        m.addLayer(nearest_point.buffer(100), {\"color\": \"red\"}, \"Nearest Glacier Point\")\n",
    "\n",
    "        # Glacier polygon\n",
    "        m.addLayer(nearest.geometry(), {\"color\": \"purple\"}, \"Nearest Glacier\")\n",
    "\n",
    "        # Connection line\n",
    "        line = ee.Geometry.LineString([\n",
    "            lake_centroid.coordinates(),\n",
    "            nearest_point.coordinates()\n",
    "        ])\n",
    "        m.addLayer(line, {\"color\": \"yellow\", \"width\": 2}, \"Connection Line\")\n",
    "\n",
    "    return m\n",
    "\n",
    "\n"
   ]
  },
  {
   "cell_type": "code",
   "execution_count": 17,
   "id": "f6e13707-60df-4982-86b7-0e5d0b338a1b",
   "metadata": {},
   "outputs": [
    {
     "data": {
      "text/html": [
       "\n",
       "            <style>\n",
       "                .geemap-dark {\n",
       "                    --jp-widgets-color: white;\n",
       "                    --jp-widgets-label-color: white;\n",
       "                    --jp-ui-font-color1: white;\n",
       "                    --jp-layout-color2: #454545;\n",
       "                    background-color: #383838;\n",
       "                }\n",
       "\n",
       "                .geemap-dark .jupyter-button {\n",
       "                    --jp-layout-color3: #383838;\n",
       "                }\n",
       "\n",
       "                .geemap-colab {\n",
       "                    background-color: var(--colab-primary-surface-color, white);\n",
       "                }\n",
       "\n",
       "                .geemap-colab .jupyter-button {\n",
       "                    --jp-layout-color3: var(--colab-primary-surface-color, white);\n",
       "                }\n",
       "            </style>\n",
       "            "
      ],
      "text/plain": [
       "<IPython.core.display.HTML object>"
      ]
     },
     "metadata": {},
     "output_type": "display_data"
    },
    {
     "name": "stdout",
     "output_type": "stream",
     "text": [
      "Lake polygons detected: 1\n"
     ]
    },
    {
     "ename": "NameError",
     "evalue": "name 'glacier_info' is not defined",
     "output_type": "error",
     "traceback": [
      "\u001b[31m---------------------------------------------------------------------------\u001b[39m",
      "\u001b[31mNameError\u001b[39m                                 Traceback (most recent call last)",
      "\u001b[36mCell\u001b[39m\u001b[36m \u001b[39m\u001b[32mIn[17]\u001b[39m\u001b[32m, line 20\u001b[39m\n\u001b[32m     10\u001b[39m summary_keys = [\n\u001b[32m     11\u001b[39m     \u001b[33m\"\u001b[39m\u001b[33mtouching\u001b[39m\u001b[33m\"\u001b[39m,\n\u001b[32m     12\u001b[39m     \u001b[33m\"\u001b[39m\u001b[33mdistance_m\u001b[39m\u001b[33m\"\u001b[39m,\n\u001b[32m   (...)\u001b[39m\u001b[32m     16\u001b[39m     \u001b[33m\"\u001b[39m\u001b[33mglacier_area_km2\u001b[39m\u001b[33m\"\u001b[39m\n\u001b[32m     17\u001b[39m ]\n\u001b[32m     19\u001b[39m \u001b[38;5;28;01mfor\u001b[39;00m k \u001b[38;5;129;01min\u001b[39;00m summary_keys:\n\u001b[32m---> \u001b[39m\u001b[32m20\u001b[39m     \u001b[38;5;28mprint\u001b[39m(\u001b[33mf\u001b[39m\u001b[33m\"\u001b[39m\u001b[38;5;132;01m{\u001b[39;00mk\u001b[38;5;132;01m:\u001b[39;00m\u001b[33m20\u001b[39m\u001b[38;5;132;01m}\u001b[39;00m\u001b[33m: \u001b[39m\u001b[38;5;132;01m{\u001b[39;00m\u001b[43mglacier_info\u001b[49m.get(k)\u001b[38;5;132;01m}\u001b[39;00m\u001b[33m\"\u001b[39m)\n",
      "\u001b[31mNameError\u001b[39m: name 'glacier_info' is not defined"
     ]
    }
   ],
   "source": [
    "# --- Test one lake ---\n",
    "lat, lon = 27.864,87.837   # example coords\n",
    "point = ee.Geometry.Point([lon, lat])\n",
    "\n",
    "# 1. Detect lake polygon\n",
    "lake_result = detect_lake_from_point(point, 2016)\n",
    "lake_fc = ee.FeatureCollection(lake_result[\"lake_fc\"])\n",
    "print(\"Lake polygons detected:\", lake_fc.size().getInfo())\n",
    "# Only print the summary keys we care about\n",
    "summary_keys = [\n",
    "    \"touching\",\n",
    "    \"distance_m\",\n",
    "    \"lake_elev_m\",\n",
    "    \"glacier_elev_m\",\n",
    "    \"slope_glac_to_lake\",\n",
    "    \"glacier_area_km2\"\n",
    "]\n",
    "\n",
    "for k in summary_keys:\n",
    "    print(f\"{k:20}: {glacier_info.get(k)}\")"
   ]
  },
  {
   "cell_type": "code",
   "execution_count": 18,
   "id": "3f088571-3c5e-4aba-a6f7-b9b37ad6ca3c",
   "metadata": {},
   "outputs": [
    {
     "data": {
      "text/html": [
       "\n",
       "            <style>\n",
       "                .geemap-dark {\n",
       "                    --jp-widgets-color: white;\n",
       "                    --jp-widgets-label-color: white;\n",
       "                    --jp-ui-font-color1: white;\n",
       "                    --jp-layout-color2: #454545;\n",
       "                    background-color: #383838;\n",
       "                }\n",
       "\n",
       "                .geemap-dark .jupyter-button {\n",
       "                    --jp-layout-color3: #383838;\n",
       "                }\n",
       "\n",
       "                .geemap-colab {\n",
       "                    background-color: var(--colab-primary-surface-color, white);\n",
       "                }\n",
       "\n",
       "                .geemap-colab .jupyter-button {\n",
       "                    --jp-layout-color3: var(--colab-primary-surface-color, white);\n",
       "                }\n",
       "            </style>\n",
       "            "
      ],
      "text/plain": [
       "<IPython.core.display.HTML object>"
      ]
     },
     "metadata": {},
     "output_type": "display_data"
    },
    {
     "ename": "NameError",
     "evalue": "name 'lake_geom' is not defined",
     "output_type": "error",
     "traceback": [
      "\u001b[31m---------------------------------------------------------------------------\u001b[39m",
      "\u001b[31mNameError\u001b[39m                                 Traceback (most recent call last)",
      "\u001b[36mCell\u001b[39m\u001b[36m \u001b[39m\u001b[32mIn[18]\u001b[39m\u001b[32m, line 1\u001b[39m\n\u001b[32m----> \u001b[39m\u001b[32m1\u001b[39m m = visualize_glacierE(\u001b[43mlake_geom\u001b[49m, glacier_info, zoom=\u001b[32m11\u001b[39m)\n\u001b[32m      2\u001b[39m m\n",
      "\u001b[31mNameError\u001b[39m: name 'lake_geom' is not defined"
     ]
    }
   ],
   "source": [
    "m = visualize_glacierE(lake_geom, glacier_info, zoom=11)\n",
    "m\n"
   ]
  },
  {
   "cell_type": "code",
   "execution_count": null,
   "id": "88e426d7-e269-46f0-93d2-55bb5cd54811",
   "metadata": {},
   "outputs": [],
   "source": []
  },
  {
   "cell_type": "code",
   "execution_count": null,
   "id": "62502661-92f3-4219-bf57-f84439b9cbc2",
   "metadata": {},
   "outputs": [],
   "source": []
  }
 ],
 "metadata": {
  "kernelspec": {
   "display_name": "Python 3 (ipykernel)",
   "language": "python",
   "name": "python3"
  },
  "language_info": {
   "codemirror_mode": {
    "name": "ipython",
    "version": 3
   },
   "file_extension": ".py",
   "mimetype": "text/x-python",
   "name": "python",
   "nbconvert_exporter": "python",
   "pygments_lexer": "ipython3",
   "version": "3.13.5"
  }
 },
 "nbformat": 4,
 "nbformat_minor": 5
}
