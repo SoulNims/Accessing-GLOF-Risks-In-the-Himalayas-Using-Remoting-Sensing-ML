{
 "cells": [
  {
   "cell_type": "markdown",
   "id": "4666424a-c9d7-4870-9c32-176f06fbcac4",
   "metadata": {},
   "source": [
    "# Handeling Categorical Data"
   ]
  },
  {
   "cell_type": "code",
   "execution_count": 6,
   "id": "daef59ee-c3b4-4667-9a72-da101a26d2a5",
   "metadata": {},
   "outputs": [],
   "source": [
    "import pandas as pd\n",
    "import numpy as np"
   ]
  },
  {
   "cell_type": "code",
   "execution_count": 10,
   "id": "93763403-d164-40ed-b26e-0709ad45e6dd",
   "metadata": {},
   "outputs": [],
   "source": [
    "pd.set_option(\"display.max_columns\", None)\n",
    "pd.set_option(\"display.max_rows\", None)"
   ]
  },
  {
   "cell_type": "markdown",
   "id": "ca940085-609c-4c7e-a197-dc4e9636161a",
   "metadata": {},
   "source": [
    "## One Hot Encoding Using Pandas"
   ]
  },
  {
   "cell_type": "code",
   "execution_count": 8,
   "id": "231da776-f06a-4e43-bbac-0c352e90e83d",
   "metadata": {},
   "outputs": [],
   "source": [
    "uncleaned_ml_neg=pd.read_csv(\"uncleaned_ml_neg.csv\")\n",
    "uncleaned_ml_pos=pd.read_csv(\"uncleaned_ml_pos.csv\")"
   ]
  },
  {
   "cell_type": "code",
   "execution_count": 14,
   "id": "4095a8ea-adc7-49ec-9b03-605937414793",
   "metadata": {},
   "outputs": [
    {
     "data": {
      "text/plain": [
       "(2411, 17)"
      ]
     },
     "execution_count": 14,
     "metadata": {},
     "output_type": "execute_result"
    }
   ],
   "source": [
    "uncleaned_ml_neg.shape"
   ]
  },
  {
   "cell_type": "code",
   "execution_count": 15,
   "id": "9a678cb5-ec3d-4068-be4e-10b582a354bc",
   "metadata": {},
   "outputs": [
    {
     "data": {
      "text/plain": [
       "(241, 17)"
      ]
     },
     "execution_count": 15,
     "metadata": {},
     "output_type": "execute_result"
    }
   ],
   "source": [
    "uncleaned_ml_pos.shape"
   ]
  },
  {
   "cell_type": "code",
   "execution_count": null,
   "id": "26a88a46-8e7b-4171-b6a5-d765d5c5b222",
   "metadata": {},
   "outputs": [],
   "source": []
  },
  {
   "cell_type": "code",
   "execution_count": null,
   "id": "06191601-020e-4895-aa71-55241506b677",
   "metadata": {},
   "outputs": [],
   "source": []
  },
  {
   "cell_type": "code",
   "execution_count": null,
   "id": "cfa1b942-438b-4acc-a473-8fd45106cdf3",
   "metadata": {},
   "outputs": [],
   "source": []
  },
  {
   "cell_type": "code",
   "execution_count": null,
   "id": "ce2320a8-65eb-4e84-9bfe-3435736930d3",
   "metadata": {},
   "outputs": [],
   "source": []
  },
  {
   "cell_type": "code",
   "execution_count": null,
   "id": "c0ccaf95-0c6f-45fc-abcb-ded42a5d3c32",
   "metadata": {},
   "outputs": [],
   "source": []
  },
  {
   "cell_type": "code",
   "execution_count": null,
   "id": "0978a1ef-f80f-4d69-b893-899fa4abf4d5",
   "metadata": {},
   "outputs": [],
   "source": []
  }
 ],
 "metadata": {
  "kernelspec": {
   "display_name": "Python 3 (ipykernel)",
   "language": "python",
   "name": "python3"
  },
  "language_info": {
   "codemirror_mode": {
    "name": "ipython",
    "version": 3
   },
   "file_extension": ".py",
   "mimetype": "text/x-python",
   "name": "python",
   "nbconvert_exporter": "python",
   "pygments_lexer": "ipython3",
   "version": "3.13.5"
  }
 },
 "nbformat": 4,
 "nbformat_minor": 5
}
