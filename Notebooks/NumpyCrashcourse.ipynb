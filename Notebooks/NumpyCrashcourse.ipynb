{
 "cells": [
  {
   "cell_type": "code",
   "execution_count": 1,
   "id": "0d9260c5-d289-405f-a1e5-ed2c672d734a",
   "metadata": {},
   "outputs": [],
   "source": [
    "import numpy as np"
   ]
  },
  {
   "cell_type": "code",
   "execution_count": 31,
   "id": "814f4a20-b580-45f2-b165-7be889ca9775",
   "metadata": {},
   "outputs": [],
   "source": [
    "arr1=np.array([1,2,3,4])"
   ]
  },
  {
   "cell_type": "code",
   "execution_count": 34,
   "id": "2708a671-75c1-46cf-afef-873ec1077bbd",
   "metadata": {
    "panel-layout": {
     "height": 10,
     "visible": true,
     "width": 100
    }
   },
   "outputs": [
    {
     "data": {
      "text/plain": [
       "numpy.ndarray"
      ]
     },
     "execution_count": 34,
     "metadata": {},
     "output_type": "execute_result"
    }
   ],
   "source": [
    "type(arr1)"
   ]
  },
  {
   "cell_type": "code",
   "execution_count": 35,
   "id": "45449d45-5ad0-4b3e-83ce-63d0cbdd4054",
   "metadata": {},
   "outputs": [],
   "source": [
    "arr2=np.array([[1,2,3],[2,3,4]])"
   ]
  },
  {
   "cell_type": "code",
   "execution_count": 36,
   "id": "c7a28882-e053-425b-a097-d97b3b2380a5",
   "metadata": {
    "panel-layout": {
     "height": 44.28125762939453,
     "visible": true,
     "width": 100
    }
   },
   "outputs": [
    {
     "data": {
      "text/plain": [
       "array([[1, 2, 3],\n",
       "       [2, 3, 4]])"
      ]
     },
     "execution_count": 36,
     "metadata": {},
     "output_type": "execute_result"
    }
   ],
   "source": [
    "arr2"
   ]
  },
  {
   "cell_type": "code",
   "execution_count": 37,
   "id": "dd37fcfc-6651-452f-82ff-0c6d19bdfcc2",
   "metadata": {
    "panel-layout": {
     "height": 10,
     "visible": true,
     "width": 100
    }
   },
   "outputs": [
    {
     "data": {
      "text/plain": [
       "numpy.ndarray"
      ]
     },
     "execution_count": 37,
     "metadata": {},
     "output_type": "execute_result"
    }
   ],
   "source": [
    "type(arr2)"
   ]
  },
  {
   "cell_type": "code",
   "execution_count": 38,
   "id": "db9e533b-f051-4d8d-ac0f-26e316d8e51e",
   "metadata": {},
   "outputs": [],
   "source": [
    "arr3=np.zeros((2,3))"
   ]
  },
  {
   "cell_type": "code",
   "execution_count": 39,
   "id": "9c2c5d45-b9ef-46d8-8bbc-a8a6bb49f5bc",
   "metadata": {
    "panel-layout": {
     "height": 44.28125,
     "visible": true,
     "width": 100
    }
   },
   "outputs": [
    {
     "data": {
      "text/plain": [
       "array([[0., 0., 0.],\n",
       "       [0., 0., 0.]])"
      ]
     },
     "execution_count": 39,
     "metadata": {},
     "output_type": "execute_result"
    }
   ],
   "source": [
    "arr3"
   ]
  },
  {
   "cell_type": "code",
   "execution_count": 40,
   "id": "4e501d18-11d4-4018-a006-d50d811f2bd9",
   "metadata": {
    "panel-layout": {
     "height": 61.421875,
     "visible": true,
     "width": 100
    }
   },
   "outputs": [
    {
     "data": {
      "text/plain": [
       "array([[1., 1., 1.],\n",
       "       [1., 1., 1.],\n",
       "       [1., 1., 1.]])"
      ]
     },
     "execution_count": 40,
     "metadata": {},
     "output_type": "execute_result"
    }
   ],
   "source": [
    "arr4=np.ones((3,3))\n",
    "arr4"
   ]
  },
  {
   "cell_type": "code",
   "execution_count": 41,
   "id": "19fe62b3-2e96-4a8e-9243-c41a0bfc84e0",
   "metadata": {
    "panel-layout": {
     "height": 95.703125,
     "visible": true,
     "width": 100
    }
   },
   "outputs": [
    {
     "data": {
      "text/plain": [
       "array([[1., 0., 0., 0., 0.],\n",
       "       [0., 1., 0., 0., 0.],\n",
       "       [0., 0., 1., 0., 0.],\n",
       "       [0., 0., 0., 1., 0.],\n",
       "       [0., 0., 0., 0., 1.]])"
      ]
     },
     "execution_count": 41,
     "metadata": {},
     "output_type": "execute_result"
    }
   ],
   "source": [
    "arr5=np.identity(5)\n",
    "arr5"
   ]
  },
  {
   "cell_type": "code",
   "execution_count": 42,
   "id": "fc80be55-1fff-44d4-8697-b906073e96a9",
   "metadata": {
    "panel-layout": {
     "height": 27.140625,
     "visible": true,
     "width": 100
    }
   },
   "outputs": [
    {
     "data": {
      "text/plain": [
       "array([0, 1, 2, 3, 4, 5, 6, 7, 8, 9])"
      ]
     },
     "execution_count": 42,
     "metadata": {},
     "output_type": "execute_result"
    }
   ],
   "source": [
    "arr6=np.arange(10)\n",
    "arr6"
   ]
  },
  {
   "cell_type": "code",
   "execution_count": 43,
   "id": "a9614cbb-c7ab-4cab-8a31-9335ca9f79a9",
   "metadata": {
    "panel-layout": {
     "height": 27.140625,
     "visible": true,
     "width": 100
    }
   },
   "outputs": [
    {
     "data": {
      "text/plain": [
       "array([5, 6, 7, 8, 9])"
      ]
     },
     "execution_count": 43,
     "metadata": {},
     "output_type": "execute_result"
    }
   ],
   "source": [
    "arr7=np.arange(5,10)\n",
    "arr7"
   ]
  },
  {
   "cell_type": "code",
   "execution_count": 44,
   "id": "0d3a1c27-758e-452b-8e48-534a027f1038",
   "metadata": {
    "panel-layout": {
     "height": 27.140625,
     "visible": true,
     "width": 100
    }
   },
   "outputs": [
    {
     "data": {
      "text/plain": [
       "array([0, 2, 4, 6, 8])"
      ]
     },
     "execution_count": 44,
     "metadata": {},
     "output_type": "execute_result"
    }
   ],
   "source": [
    "arr8=np.arange(0,10,2)\n",
    "arr8"
   ]
  },
  {
   "cell_type": "code",
   "execution_count": 45,
   "id": "1936cca6-dbb3-48b7-8c13-9342faf3a10e",
   "metadata": {
    "panel-layout": {
     "height": 68.140625,
     "visible": true,
     "width": 100
    }
   },
   "outputs": [
    {
     "data": {
      "text/plain": [
       "array([ 0.,  5., 10., 15., 20.])"
      ]
     },
     "execution_count": 45,
     "metadata": {},
     "output_type": "execute_result"
    }
   ],
   "source": [
    "arr9=np.linspace(0,20,5)\n",
    "arr9"
   ]
  },
  {
   "cell_type": "code",
   "execution_count": 46,
   "id": "12800b71-e0b6-44ae-96c0-f49f69c825a5",
   "metadata": {
    "panel-layout": {
     "height": 68.140625,
     "visible": true,
     "width": 100
    }
   },
   "outputs": [
    {
     "data": {
      "text/plain": [
       "array([ 0.,  5., 10., 15., 20.])"
      ]
     },
     "execution_count": 46,
     "metadata": {},
     "output_type": "execute_result"
    }
   ],
   "source": [
    "arr10=arr9.copy()\n",
    "arr10"
   ]
  },
  {
   "cell_type": "markdown",
   "id": "d150ca91-eeff-4095-9a21-278155fc89b1",
   "metadata": {
    "panel-layout": {
     "height": 50.8203125,
     "visible": true,
     "width": 100
    }
   },
   "source": [
    "## Some Important Attribute"
   ]
  },
  {
   "cell_type": "code",
   "execution_count": 49,
   "id": "9ab00ab0-2592-4c38-8add-d9767eef8b02",
   "metadata": {},
   "outputs": [
    {
     "data": {
      "text/plain": [
       "(4,)"
      ]
     },
     "execution_count": 49,
     "metadata": {},
     "output_type": "execute_result"
    }
   ],
   "source": [
    "arr1.shape"
   ]
  },
  {
   "cell_type": "code",
   "execution_count": 53,
   "id": "1110b17c-a3fd-4880-abca-5b4045f80d5d",
   "metadata": {},
   "outputs": [
    {
     "data": {
      "text/plain": [
       "array([[[1, 1],\n",
       "        [2, 2]],\n",
       "\n",
       "       [[3, 3],\n",
       "        [4, 4]]])"
      ]
     },
     "execution_count": 53,
     "metadata": {},
     "output_type": "execute_result"
    }
   ],
   "source": [
    "arr11=np.array([[[1,1],[2,2]],[[3,3],[4,4]]])\n",
    "arr11"
   ]
  },
  {
   "cell_type": "code",
   "execution_count": 54,
   "id": "9530fbe4-3426-4f83-a034-cb078993dc86",
   "metadata": {},
   "outputs": [
    {
     "data": {
      "text/plain": [
       "(2, 2, 2)"
      ]
     },
     "execution_count": 54,
     "metadata": {},
     "output_type": "execute_result"
    }
   ],
   "source": [
    "arr11.shape"
   ]
  },
  {
   "cell_type": "code",
   "execution_count": 55,
   "id": "274f935f-18a1-4927-aa17-1ebf4e949127",
   "metadata": {},
   "outputs": [
    {
     "data": {
      "text/plain": [
       "3"
      ]
     },
     "execution_count": 55,
     "metadata": {},
     "output_type": "execute_result"
    }
   ],
   "source": [
    "arr11.ndim"
   ]
  },
  {
   "cell_type": "code",
   "execution_count": 56,
   "id": "fa8dad4c-d8b4-4560-89c1-4fb6a85e0492",
   "metadata": {},
   "outputs": [
    {
     "data": {
      "text/plain": [
       "4"
      ]
     },
     "execution_count": 56,
     "metadata": {},
     "output_type": "execute_result"
    }
   ],
   "source": [
    "#size=total number of elements in the array\n",
    "arr1.size"
   ]
  },
  {
   "cell_type": "code",
   "execution_count": 57,
   "id": "daf7ea07-8c4c-43ba-8883-994ee0c66069",
   "metadata": {},
   "outputs": [
    {
     "data": {
      "text/plain": [
       "8"
      ]
     },
     "execution_count": 57,
     "metadata": {},
     "output_type": "execute_result"
    }
   ],
   "source": [
    "arr11.size"
   ]
  },
  {
   "cell_type": "code",
   "execution_count": 58,
   "id": "43da55ab-3571-47fe-bda0-5ca80ad0654f",
   "metadata": {},
   "outputs": [
    {
     "data": {
      "text/plain": [
       "8"
      ]
     },
     "execution_count": 58,
     "metadata": {},
     "output_type": "execute_result"
    }
   ],
   "source": [
    "#itemsize=gives the size of one element in the array\n",
    "arr1.itemsize"
   ]
  },
  {
   "cell_type": "code",
   "execution_count": 68,
   "id": "b199c2ea-c3e1-4589-8e32-15d86ea4aab9",
   "metadata": {},
   "outputs": [
    {
     "data": {
      "text/plain": [
       "dtype('int64')"
      ]
     },
     "execution_count": 68,
     "metadata": {},
     "output_type": "execute_result"
    }
   ],
   "source": [
    "arr11.itemsize\n",
    "arr11.dtype"
   ]
  },
  {
   "cell_type": "code",
   "execution_count": 70,
   "id": "beb6c43b-aafa-4086-afee-746048ac9c30",
   "metadata": {},
   "outputs": [
    {
     "data": {
      "text/plain": [
       "dtype('int32')"
      ]
     },
     "execution_count": 70,
     "metadata": {},
     "output_type": "execute_result"
    }
   ],
   "source": [
    "arr11_int=arr11.astype(np.int32)\n",
    "arr11_int.dtype"
   ]
  },
  {
   "cell_type": "code",
   "execution_count": 66,
   "id": "3869ab3e-eae4-497b-afc8-79b6288f03fd",
   "metadata": {},
   "outputs": [
    {
     "data": {
      "text/plain": [
       "8"
      ]
     },
     "execution_count": 66,
     "metadata": {},
     "output_type": "execute_result"
    }
   ],
   "source": [
    "arr11_int.itemsize"
   ]
  },
  {
   "cell_type": "code",
   "execution_count": 67,
   "id": "99616780-05ca-4539-b592-e7f881fb4b76",
   "metadata": {},
   "outputs": [
    {
     "data": {
      "text/plain": [
       "dtype('int64')"
      ]
     },
     "execution_count": 67,
     "metadata": {},
     "output_type": "execute_result"
    }
   ],
   "source": [
    "arr11_int.dtype"
   ]
  },
  {
   "cell_type": "code",
   "execution_count": 72,
   "id": "e284876c-8870-4f64-b395-596f6c851fd5",
   "metadata": {},
   "outputs": [
    {
     "data": {
      "text/plain": [
       "dtype('int32')"
      ]
     },
     "execution_count": 72,
     "metadata": {},
     "output_type": "execute_result"
    }
   ],
   "source": [
    "arr11_int.astype('float')\n",
    "arr11_int.dtype"
   ]
  },
  {
   "cell_type": "code",
   "execution_count": 73,
   "id": "45187317-d3e9-4a3f-88da-c110b5eaeefc",
   "metadata": {},
   "outputs": [],
   "source": [
    "# python lists vs Numpy Arrays"
   ]
  },
  {
   "cell_type": "code",
   "execution_count": 85,
   "id": "e581f620-b44b-438a-9110-da545e26ccb3",
   "metadata": {},
   "outputs": [],
   "source": [
    "lista=range(100)\n",
    "arra=np.arange(100)"
   ]
  },
  {
   "cell_type": "code",
   "execution_count": 86,
   "id": "757c334e-478e-4abc-8e17-74aa6337d391",
   "metadata": {},
   "outputs": [],
   "source": [
    "import sys"
   ]
  },
  {
   "cell_type": "code",
   "execution_count": 87,
   "id": "872915ac-38f5-48d1-80ab-2419b4d81db2",
   "metadata": {},
   "outputs": [
    {
     "name": "stdout",
     "output_type": "stream",
     "text": [
      "2800\n"
     ]
    }
   ],
   "source": [
    "print(sys.getsizeof(38)*len(lista))"
   ]
  },
  {
   "cell_type": "code",
   "execution_count": 88,
   "id": "741b3b66-ea46-428c-8e87-2d3fb97b703a",
   "metadata": {},
   "outputs": [
    {
     "name": "stdout",
     "output_type": "stream",
     "text": [
      "2800\n"
     ]
    }
   ],
   "source": [
    "print(sys.getsizeof(55)*len(arra))"
   ]
  },
  {
   "cell_type": "code",
   "execution_count": 89,
   "id": "88cebf91-2a4d-4a1a-b225-d01306b6237b",
   "metadata": {},
   "outputs": [
    {
     "name": "stdout",
     "output_type": "stream",
     "text": [
      "800\n"
     ]
    }
   ],
   "source": [
    "print(arra.itemsize*arra.size)"
   ]
  },
  {
   "cell_type": "markdown",
   "id": "93dd6ff8-c563-43a9-956b-9435e21e09a8",
   "metadata": {},
   "source": [
    "#indexing, slicing, Iteration"
   ]
  },
  {
   "cell_type": "code",
   "execution_count": 90,
   "id": "0c458b29-203f-4500-acd2-821cf257ccbd",
   "metadata": {},
   "outputs": [
    {
     "data": {
      "text/plain": [
       "array([ 0,  1,  2,  3,  4,  5,  6,  7,  8,  9, 10, 11, 12, 13, 14, 15, 16,\n",
       "       17, 18, 19, 20, 21, 22, 23])"
      ]
     },
     "execution_count": 90,
     "metadata": {},
     "output_type": "execute_result"
    }
   ],
   "source": [
    "#.reshape()\n",
    "\n",
    "arr14=np.arange(24)\n",
    "arr14"
   ]
  },
  {
   "cell_type": "code",
   "execution_count": 92,
   "id": "a3c43846-4fe3-47aa-8116-966dfa5cd4bc",
   "metadata": {},
   "outputs": [
    {
     "data": {
      "text/plain": [
       "array([[ 0,  1,  2,  3,  4,  5],\n",
       "       [ 6,  7,  8,  9, 10, 11],\n",
       "       [12, 13, 14, 15, 16, 17],\n",
       "       [18, 19, 20, 21, 22, 23]])"
      ]
     },
     "execution_count": 92,
     "metadata": {},
     "output_type": "execute_result"
    }
   ],
   "source": [
    "arr14.reshape(4,6)"
   ]
  },
  {
   "cell_type": "code",
   "execution_count": 111,
   "id": "97ba00e3-416e-43e7-8fe7-98a5881b9c2b",
   "metadata": {},
   "outputs": [
    {
     "data": {
      "text/plain": [
       "array([[ 0,  1,  2,  3],\n",
       "       [ 4,  5,  6,  7],\n",
       "       [ 8,  9, 10, 11],\n",
       "       [12, 13, 14, 15],\n",
       "       [16, 17, 18, 19],\n",
       "       [20, 21, 22, 23]])"
      ]
     },
     "execution_count": 111,
     "metadata": {},
     "output_type": "execute_result"
    }
   ],
   "source": [
    "arr15=arr14.reshape(6,4)\n",
    "arr15"
   ]
  },
  {
   "cell_type": "code",
   "execution_count": 112,
   "id": "98bf6c8f-2d79-46f0-834a-1a0e51f089d0",
   "metadata": {},
   "outputs": [
    {
     "data": {
      "text/plain": [
       "array([12, 13, 14, 15])"
      ]
     },
     "execution_count": 112,
     "metadata": {},
     "output_type": "execute_result"
    }
   ],
   "source": [
    "arr15[3]"
   ]
  },
  {
   "cell_type": "code",
   "execution_count": 113,
   "id": "3f882dd4-da92-4831-889d-562b9be1701c",
   "metadata": {},
   "outputs": [
    {
     "data": {
      "text/plain": [
       "array([[ 0,  1,  2,  3],\n",
       "       [ 4,  5,  6,  7],\n",
       "       [ 8,  9, 10, 11],\n",
       "       [12, 13, 14, 15],\n",
       "       [16, 17, 18, 19],\n",
       "       [20, 21, 22, 23]])"
      ]
     },
     "execution_count": 113,
     "metadata": {},
     "output_type": "execute_result"
    }
   ],
   "source": [
    "arr15[:]"
   ]
  },
  {
   "cell_type": "code",
   "execution_count": 115,
   "id": "10c271c7-4ced-4fb9-af0a-d8f9075e9bd6",
   "metadata": {},
   "outputs": [
    {
     "data": {
      "text/plain": [
       "array([[ 9, 10],\n",
       "       [13, 14]])"
      ]
     },
     "execution_count": 115,
     "metadata": {},
     "output_type": "execute_result"
    }
   ],
   "source": [
    "arr15[2:4,1:3]"
   ]
  },
  {
   "cell_type": "code",
   "execution_count": 116,
   "id": "2f43b121-ebde-4844-bd8a-676c79f0aca2",
   "metadata": {},
   "outputs": [
    {
     "name": "stdout",
     "output_type": "stream",
     "text": [
      "[0 1 2 3]\n",
      "[4 5 6 7]\n",
      "[ 8  9 10 11]\n",
      "[12 13 14 15]\n",
      "[16 17 18 19]\n",
      "[20 21 22 23]\n"
     ]
    }
   ],
   "source": [
    "for i in arr15:\n",
    "    print(i)"
   ]
  },
  {
   "cell_type": "code",
   "execution_count": 119,
   "id": "2d90ce50-09e6-4cf4-a926-5c6bd887c7de",
   "metadata": {},
   "outputs": [
    {
     "name": "stdout",
     "output_type": "stream",
     "text": [
      "0\n",
      "1\n",
      "2\n",
      "3\n",
      "4\n",
      "5\n",
      "6\n",
      "7\n",
      "8\n",
      "9\n",
      "10\n",
      "11\n",
      "12\n",
      "13\n",
      "14\n",
      "15\n",
      "16\n",
      "17\n",
      "18\n",
      "19\n",
      "20\n",
      "21\n",
      "22\n",
      "23\n"
     ]
    }
   ],
   "source": [
    "for i in np.nditer(arr15):\n",
    "    print(i)"
   ]
  },
  {
   "cell_type": "markdown",
   "id": "b03a30a3-9a45-4866-a8c4-9caf5da30cb6",
   "metadata": {},
   "source": [
    "#Numpy Operations"
   ]
  },
  {
   "cell_type": "code",
   "execution_count": 132,
   "id": "8fc3d364-9828-451e-a7c0-71ce5b44d556",
   "metadata": {},
   "outputs": [],
   "source": [
    "arr14=np.arange(7)[1:]\n",
    "arr15=np.arange(10)[4:]"
   ]
  },
  {
   "cell_type": "code",
   "execution_count": 133,
   "id": "60447a26-374d-4f4e-abbf-a6612ce4de76",
   "metadata": {},
   "outputs": [
    {
     "data": {
      "text/plain": [
       "array([1, 2, 3, 4, 5, 6])"
      ]
     },
     "execution_count": 133,
     "metadata": {},
     "output_type": "execute_result"
    }
   ],
   "source": [
    "arr14"
   ]
  },
  {
   "cell_type": "code",
   "execution_count": 134,
   "id": "43568e02-4106-47b1-a9b1-b83d60882f32",
   "metadata": {},
   "outputs": [
    {
     "data": {
      "text/plain": [
       "array([4, 5, 6, 7, 8, 9])"
      ]
     },
     "execution_count": 134,
     "metadata": {},
     "output_type": "execute_result"
    }
   ],
   "source": [
    "arr15"
   ]
  },
  {
   "cell_type": "code",
   "execution_count": 135,
   "id": "2c47431a-1b85-4e6b-9520-4ebdee00943d",
   "metadata": {},
   "outputs": [
    {
     "data": {
      "text/plain": [
       "array([-3, -3, -3, -3, -3, -3])"
      ]
     },
     "execution_count": 135,
     "metadata": {},
     "output_type": "execute_result"
    }
   ],
   "source": [
    "arr14-arr15"
   ]
  },
  {
   "cell_type": "code",
   "execution_count": 136,
   "id": "d6512a31-ad04-484b-a864-48e5d1e6d0e1",
   "metadata": {},
   "outputs": [
    {
     "data": {
      "text/plain": [
       "array([ 4, 10, 18, 28, 40, 54])"
      ]
     },
     "execution_count": 136,
     "metadata": {},
     "output_type": "execute_result"
    }
   ],
   "source": [
    "#vector multiplication\n",
    "arr14*arr15"
   ]
  },
  {
   "cell_type": "code",
   "execution_count": 137,
   "id": "13506232-351c-47a5-84f5-e489340d2594",
   "metadata": {},
   "outputs": [
    {
     "data": {
      "text/plain": [
       "array([ 2,  4,  6,  8, 10, 12])"
      ]
     },
     "execution_count": 137,
     "metadata": {},
     "output_type": "execute_result"
    }
   ],
   "source": [
    "#scalar multiplication\n",
    "arr14*2"
   ]
  },
  {
   "cell_type": "code",
   "execution_count": 139,
   "id": "28c12634-0e0e-4298-a233-e2cd35c39679",
   "metadata": {},
   "outputs": [
    {
     "data": {
      "text/plain": [
       "array([False, False, False,  True,  True,  True])"
      ]
     },
     "execution_count": 139,
     "metadata": {},
     "output_type": "execute_result"
    }
   ],
   "source": [
    "arr14>3"
   ]
  },
  {
   "cell_type": "code",
   "execution_count": 142,
   "id": "9c19f9c7-a824-4939-9546-0bcc4bd7a299",
   "metadata": {},
   "outputs": [
    {
     "data": {
      "text/plain": [
       "np.int64(1)"
      ]
     },
     "execution_count": 142,
     "metadata": {},
     "output_type": "execute_result"
    }
   ],
   "source": [
    "arr14.min()"
   ]
  },
  {
   "cell_type": "code",
   "execution_count": 143,
   "id": "fd5f912f-9d6d-454c-8e58-bb39e77367e6",
   "metadata": {},
   "outputs": [
    {
     "data": {
      "text/plain": [
       "np.int64(6)"
      ]
     },
     "execution_count": 143,
     "metadata": {},
     "output_type": "execute_result"
    }
   ],
   "source": [
    "arr14.max()"
   ]
  },
  {
   "cell_type": "code",
   "execution_count": 144,
   "id": "c598ecfd-f49d-4e66-ba6c-b00d81d3ca22",
   "metadata": {},
   "outputs": [
    {
     "data": {
      "text/plain": [
       "np.int64(6)"
      ]
     },
     "execution_count": 144,
     "metadata": {},
     "output_type": "execute_result"
    }
   ],
   "source": [
    "arr14.max(axis=0)"
   ]
  },
  {
   "cell_type": "markdown",
   "id": "4607e4b1-46a4-432f-8e9a-ce54f80eb7db",
   "metadata": {},
   "source": [
    "Reshaping Numpy Arrays"
   ]
  },
  {
   "cell_type": "code",
   "execution_count": 160,
   "id": "9d428679-4443-4c12-a9da-19494372106a",
   "metadata": {},
   "outputs": [
    {
     "data": {
      "text/plain": [
       "array([[12, 13, 14],\n",
       "       [15, 16, 17]])"
      ]
     },
     "execution_count": 160,
     "metadata": {},
     "output_type": "execute_result"
    }
   ],
   "source": [
    "arr14=np.arange(12,18).reshape(2,3)\n",
    "arr14"
   ]
  },
  {
   "cell_type": "code",
   "execution_count": 161,
   "id": "da22c527-19e7-4883-b5cb-d677ea1d9d6f",
   "metadata": {},
   "outputs": [
    {
     "data": {
      "text/plain": [
       "array([[ 5,  6,  7],\n",
       "       [ 8,  9, 10]])"
      ]
     },
     "execution_count": 161,
     "metadata": {},
     "output_type": "execute_result"
    }
   ],
   "source": [
    "arr15=np.arange(5,11).reshape(2,3)\n",
    "arr15"
   ]
  },
  {
   "cell_type": "code",
   "execution_count": 162,
   "id": "edf5aa12-9291-45eb-922b-d0be85de7b75",
   "metadata": {},
   "outputs": [
    {
     "data": {
      "text/plain": [
       "array([12, 13, 14, 15, 16, 17])"
      ]
     },
     "execution_count": 162,
     "metadata": {},
     "output_type": "execute_result"
    }
   ],
   "source": [
    "#ravel: returns 1d view of the array\n",
    "arr14.ravel()"
   ]
  },
  {
   "cell_type": "code",
   "execution_count": 163,
   "id": "88605cd3-9082-4ad7-b283-73e86669d443",
   "metadata": {},
   "outputs": [
    {
     "data": {
      "text/plain": [
       "array([[12, 15],\n",
       "       [13, 16],\n",
       "       [14, 17]])"
      ]
     },
     "execution_count": 163,
     "metadata": {},
     "output_type": "execute_result"
    }
   ],
   "source": [
    "#transpose: swaps rows for columns\n",
    "arr14.transpose()"
   ]
  },
  {
   "cell_type": "code",
   "execution_count": 164,
   "id": "fe0642fe-9172-4f7f-8ed7-101bea98e719",
   "metadata": {},
   "outputs": [],
   "source": [
    "#stack: horizontal and vertical"
   ]
  },
  {
   "cell_type": "code",
   "execution_count": 165,
   "id": "a9fd6a20-61be-49c7-b6c2-19280086f394",
   "metadata": {},
   "outputs": [
    {
     "data": {
      "text/plain": [
       "array([[12, 13, 14,  5,  6,  7],\n",
       "       [15, 16, 17,  8,  9, 10]])"
      ]
     },
     "execution_count": 165,
     "metadata": {},
     "output_type": "execute_result"
    }
   ],
   "source": [
    "np.hstack((arr14,arr15))"
   ]
  },
  {
   "cell_type": "code",
   "execution_count": 167,
   "id": "fc733c61-1b8d-429c-9d6c-fb61cb2e1e92",
   "metadata": {},
   "outputs": [
    {
     "data": {
      "text/plain": [
       "array([[12, 13, 14],\n",
       "       [15, 16, 17],\n",
       "       [ 5,  6,  7],\n",
       "       [ 8,  9, 10]])"
      ]
     },
     "execution_count": 167,
     "metadata": {},
     "output_type": "execute_result"
    }
   ],
   "source": [
    "np.vstack((arr14,arr15))"
   ]
  },
  {
   "cell_type": "code",
   "execution_count": null,
   "id": "53775d91-b6ef-4f9d-b86e-292492eb2a41",
   "metadata": {},
   "outputs": [],
   "source": [
    "#splitting"
   ]
  },
  {
   "cell_type": "code",
   "execution_count": 168,
   "id": "d54ba328-8252-427e-8158-520b6b5ea5fc",
   "metadata": {},
   "outputs": [
    {
     "data": {
      "text/plain": [
       "[array([[12],\n",
       "        [15]]),\n",
       " array([[13],\n",
       "        [16]]),\n",
       " array([[14],\n",
       "        [17]])]"
      ]
     },
     "execution_count": 168,
     "metadata": {},
     "output_type": "execute_result"
    }
   ],
   "source": [
    "np.hsplit(arr14,3)\n"
   ]
  },
  {
   "cell_type": "code",
   "execution_count": 169,
   "id": "7cf2d6bc-4eff-4487-94aa-65db37a3eb13",
   "metadata": {},
   "outputs": [
    {
     "data": {
      "text/plain": [
       "[array([[5, 6, 7]]), array([[ 8,  9, 10]])]"
      ]
     },
     "execution_count": 169,
     "metadata": {},
     "output_type": "execute_result"
    }
   ],
   "source": [
    "np.vsplit(arr15,2)"
   ]
  },
  {
   "cell_type": "code",
   "execution_count": null,
   "id": "740c0e90-8ad3-4871-9d47-b8b8aabba47f",
   "metadata": {},
   "outputs": [],
   "source": [
    "#fancy indexing"
   ]
  },
  {
   "cell_type": "code",
   "execution_count": 171,
   "id": "35084bb5-d2b9-455b-8928-5bc28f97f586",
   "metadata": {},
   "outputs": [
    {
     "data": {
      "text/plain": [
       "array([[ 5,  6,  7],\n",
       "       [ 8,  9, 10]])"
      ]
     },
     "execution_count": 171,
     "metadata": {},
     "output_type": "execute_result"
    }
   ],
   "source": [
    "arr15[[0,1]]"
   ]
  },
  {
   "cell_type": "code",
   "execution_count": 174,
   "id": "ca19bebb-6ff8-4c3b-8cb0-e07af22b7e92",
   "metadata": {},
   "outputs": [
    {
     "data": {
      "text/plain": [
       "array([[ 1,  2,  3,  4,  5],\n",
       "       [ 6,  7,  8,  9, 10],\n",
       "       [11, 12, 13, 14, 15]])"
      ]
     },
     "execution_count": 174,
     "metadata": {},
     "output_type": "execute_result"
    }
   ],
   "source": [
    "arr17=np.arange(1,16).reshape(3,5)\n",
    "arr17"
   ]
  },
  {
   "cell_type": "code",
   "execution_count": 176,
   "id": "ea420a07-e594-43a0-b04d-0c0fa252e164",
   "metadata": {},
   "outputs": [
    {
     "data": {
      "text/plain": [
       "array([[ 1,  2,  3,  4,  5],\n",
       "       [11, 12, 13, 14, 15]])"
      ]
     },
     "execution_count": 176,
     "metadata": {},
     "output_type": "execute_result"
    }
   ],
   "source": [
    "arr17[[0,2]]"
   ]
  },
  {
   "cell_type": "code",
   "execution_count": 180,
   "id": "622e6e3e-4c7d-4c4e-a5db-32094197abf3",
   "metadata": {},
   "outputs": [
    {
     "data": {
      "text/plain": [
       "array([[ 3,  5,  2],\n",
       "       [ 8, 10,  7],\n",
       "       [13, 15, 12]])"
      ]
     },
     "execution_count": 180,
     "metadata": {},
     "output_type": "execute_result"
    }
   ],
   "source": [
    "arr17[:,[2,4,1]]"
   ]
  },
  {
   "cell_type": "code",
   "execution_count": null,
   "id": "505f391d-8ec4-41c9-8700-4555288def0c",
   "metadata": {},
   "outputs": [],
   "source": [
    "#Indexing using boolean arrays"
   ]
  },
  {
   "cell_type": "code",
   "execution_count": 182,
   "id": "4ff33904-a48b-4556-8e60-11679a1cbc08",
   "metadata": {
    "jp-MarkdownHeadingCollapsed": true
   },
   "outputs": [
    {
     "data": {
      "text/plain": [
       "array([[False, False, False, False, False],\n",
       "       [ True,  True,  True,  True,  True],\n",
       "       [ True,  True,  True,  True,  True]])"
      ]
     },
     "execution_count": 182,
     "metadata": {},
     "output_type": "execute_result"
    }
   ],
   "source": [
    "arr17>5"
   ]
  },
  {
   "cell_type": "code",
   "execution_count": 183,
   "id": "54eaa0bf-51b5-4799-a0f3-276e1077b985",
   "metadata": {},
   "outputs": [
    {
     "data": {
      "text/plain": [
       "array([ 6,  7,  8,  9, 10, 11, 12, 13, 14, 15])"
      ]
     },
     "execution_count": 183,
     "metadata": {},
     "output_type": "execute_result"
    }
   ],
   "source": [
    "arr17[arr17>5]"
   ]
  },
  {
   "cell_type": "code",
   "execution_count": 189,
   "id": "a447fb94-9b10-40e6-93d2-1746c08fe497",
   "metadata": {},
   "outputs": [
    {
     "data": {
      "text/plain": [
       "array([ 6,  7,  8,  9, 10, 11, 12, 13, 14])"
      ]
     },
     "execution_count": 189,
     "metadata": {},
     "output_type": "execute_result"
    }
   ],
   "source": [
    "arr17[(arr17>=6) & (arr17<=14)]"
   ]
  },
  {
   "cell_type": "code",
   "execution_count": 190,
   "id": "ac5d4223-06f2-4375-af56-a342b3d2953e",
   "metadata": {},
   "outputs": [],
   "source": [
    "arr17[(arr17>=6) & (arr17<=14)]=0"
   ]
  },
  {
   "cell_type": "code",
   "execution_count": 192,
   "id": "a5daa7e4-ce13-4829-888c-d1e8f1923ffe",
   "metadata": {},
   "outputs": [
    {
     "data": {
      "text/plain": [
       "array([[ 1,  2,  3,  4,  5],\n",
       "       [ 0,  0,  0,  0,  0],\n",
       "       [ 0,  0,  0,  0, 15]])"
      ]
     },
     "execution_count": 192,
     "metadata": {},
     "output_type": "execute_result"
    }
   ],
   "source": [
    "arr17"
   ]
  },
  {
   "cell_type": "code",
   "execution_count": 193,
   "id": "d88b14d8-6090-448b-a1c0-98552b4484a1",
   "metadata": {},
   "outputs": [],
   "source": [
    "#plotting graphs using Numpy"
   ]
  },
  {
   "cell_type": "code",
   "execution_count": 194,
   "id": "86be3bca-cbb8-4f1d-9fe9-52629f03cc29",
   "metadata": {},
   "outputs": [],
   "source": [
    "x=np.linspace(-40,40,100)"
   ]
  },
  {
   "cell_type": "code",
   "execution_count": 195,
   "id": "63ad556a-9b7c-44c2-95e6-bad20e67a94e",
   "metadata": {},
   "outputs": [
    {
     "data": {
      "text/plain": [
       "array([-40.        , -39.19191919, -38.38383838, -37.57575758,\n",
       "       -36.76767677, -35.95959596, -35.15151515, -34.34343434,\n",
       "       -33.53535354, -32.72727273, -31.91919192, -31.11111111,\n",
       "       -30.3030303 , -29.49494949, -28.68686869, -27.87878788,\n",
       "       -27.07070707, -26.26262626, -25.45454545, -24.64646465,\n",
       "       -23.83838384, -23.03030303, -22.22222222, -21.41414141,\n",
       "       -20.60606061, -19.7979798 , -18.98989899, -18.18181818,\n",
       "       -17.37373737, -16.56565657, -15.75757576, -14.94949495,\n",
       "       -14.14141414, -13.33333333, -12.52525253, -11.71717172,\n",
       "       -10.90909091, -10.1010101 ,  -9.29292929,  -8.48484848,\n",
       "        -7.67676768,  -6.86868687,  -6.06060606,  -5.25252525,\n",
       "        -4.44444444,  -3.63636364,  -2.82828283,  -2.02020202,\n",
       "        -1.21212121,  -0.4040404 ,   0.4040404 ,   1.21212121,\n",
       "         2.02020202,   2.82828283,   3.63636364,   4.44444444,\n",
       "         5.25252525,   6.06060606,   6.86868687,   7.67676768,\n",
       "         8.48484848,   9.29292929,  10.1010101 ,  10.90909091,\n",
       "        11.71717172,  12.52525253,  13.33333333,  14.14141414,\n",
       "        14.94949495,  15.75757576,  16.56565657,  17.37373737,\n",
       "        18.18181818,  18.98989899,  19.7979798 ,  20.60606061,\n",
       "        21.41414141,  22.22222222,  23.03030303,  23.83838384,\n",
       "        24.64646465,  25.45454545,  26.26262626,  27.07070707,\n",
       "        27.87878788,  28.68686869,  29.49494949,  30.3030303 ,\n",
       "        31.11111111,  31.91919192,  32.72727273,  33.53535354,\n",
       "        34.34343434,  35.15151515,  35.95959596,  36.76767677,\n",
       "        37.57575758,  38.38383838,  39.19191919,  40.        ])"
      ]
     },
     "execution_count": 195,
     "metadata": {},
     "output_type": "execute_result"
    }
   ],
   "source": [
    "x\n"
   ]
  },
  {
   "cell_type": "code",
   "execution_count": 204,
   "id": "64abf7f5-8a49-4a29-b7df-a90196efb9f1",
   "metadata": {},
   "outputs": [],
   "source": [
    "y=np.sin(x)"
   ]
  },
  {
   "cell_type": "code",
   "execution_count": 207,
   "id": "fa013c9f-c342-405c-addd-a80a9089de7a",
   "metadata": {},
   "outputs": [],
   "source": [
    "import matplotlib.pyplot as plt\n",
    "%matplotlib inline"
   ]
  },
  {
   "cell_type": "code",
   "execution_count": 210,
   "id": "6e619001-673b-4c9e-935a-44fc44946887",
   "metadata": {},
   "outputs": [
    {
     "data": {
      "image/png": "[encoded data removed]",
      "text/plain": [
       "<Figure size 640x480 with 1 Axes>"
      ]
     },
     "metadata": {},
     "output_type": "display_data"
    }
   ],
   "source": [
    "plt.plot(x,y)\n",
    "plt.show()"
   ]
  },
  {
   "cell_type": "code",
   "execution_count": null,
   "id": "aaf0f92b-9a40-4624-bc1f-37075a587f3b",
   "metadata": {},
   "outputs": [],
   "source": [
    "#Broadcasting"
   ]
  },
  {
   "cell_type": "code",
   "execution_count": null,
   "id": "6a48e025-e631-4258-921d-9b8bb6788fef",
   "metadata": {},
   "outputs": [],
   "source": [
    "#Some important Numpy Functions"
   ]
  },
  {
   "cell_type": "code",
   "execution_count": 211,
   "id": "ef695b04-e3a4-4e5a-aef5-783e094d4f74",
   "metadata": {},
   "outputs": [
    {
     "data": {
      "text/plain": [
       "0.12952581758623094"
      ]
     },
     "execution_count": 211,
     "metadata": {},
     "output_type": "execute_result"
    }
   ],
   "source": [
    "np.random.random()"
   ]
  },
  {
   "cell_type": "code",
   "execution_count": 212,
   "id": "19aaae96-0d47-4f69-9f9c-cc5b2d938800",
   "metadata": {},
   "outputs": [],
   "source": [
    "#if you want same random number everytime."
   ]
  },
  {
   "cell_type": "code",
   "execution_count": 217,
   "id": "46594277-ca40-408b-96db-2db865084280",
   "metadata": {},
   "outputs": [
    {
     "data": {
      "text/plain": [
       "0.9591668117029509"
      ]
     },
     "execution_count": 217,
     "metadata": {},
     "output_type": "execute_result"
    }
   ],
   "source": [
    "np.random.seed(798619)\n",
    "np.random.random()"
   ]
  },
  {
   "cell_type": "code",
   "execution_count": 218,
   "id": "30c17cea-5c60-4b42-a6a1-19458fc4e504",
   "metadata": {},
   "outputs": [
    {
     "data": {
      "text/plain": [
       "4.940429567628512"
      ]
     },
     "execution_count": 218,
     "metadata": {},
     "output_type": "execute_result"
    }
   ],
   "source": [
    "np.random.uniform(3,10)"
   ]
  },
  {
   "cell_type": "code",
   "execution_count": 246,
   "id": "3209aee7-dbf7-41dd-aae5-39bd1212c739",
   "metadata": {},
   "outputs": [
    {
     "data": {
      "text/plain": [
       "array([[15, 36],\n",
       "       [46, 13],\n",
       "       [ 8, 41],\n",
       "       [ 1, 32],\n",
       "       [33, 36]])"
      ]
     },
     "execution_count": 246,
     "metadata": {},
     "output_type": "execute_result"
    }
   ],
   "source": [
    "a=np.random.randint(0,50,10).reshape(5,2)\n",
    "a"
   ]
  },
  {
   "cell_type": "code",
   "execution_count": 247,
   "id": "c46e599b-8a7c-4ed1-8d4c-fc4773eb626c",
   "metadata": {},
   "outputs": [
    {
     "data": {
      "text/plain": [
       "7"
      ]
     },
     "execution_count": 247,
     "metadata": {},
     "output_type": "execute_result"
    }
   ],
   "source": [
    "np.random.randint(1,50)"
   ]
  },
  {
   "cell_type": "code",
   "execution_count": 248,
   "id": "261c5bee-f579-41aa-8fd8-92921138ffa4",
   "metadata": {},
   "outputs": [
    {
     "data": {
      "text/plain": [
       "np.int64(46)"
      ]
     },
     "execution_count": 248,
     "metadata": {},
     "output_type": "execute_result"
    }
   ],
   "source": [
    "np.max(a)"
   ]
  },
  {
   "cell_type": "code",
   "execution_count": 249,
   "id": "906c0b7d-0bde-4d69-b61f-5f8f438c9859",
   "metadata": {},
   "outputs": [
    {
     "data": {
      "text/plain": [
       "np.int64(2)"
      ]
     },
     "execution_count": 249,
     "metadata": {},
     "output_type": "execute_result"
    }
   ],
   "source": [
    "np.argmax(a)"
   ]
  },
  {
   "cell_type": "code",
   "execution_count": 250,
   "id": "918a7c06-dffa-44de-bd3d-d3ae32fdad6b",
   "metadata": {},
   "outputs": [
    {
     "name": "stdout",
     "output_type": "stream",
     "text": [
      "[15 36 46 13  8 41  1 32 33 36]\n"
     ]
    }
   ],
   "source": [
    "b=np.ravel(a)\n",
    "print(b)"
   ]
  },
  {
   "cell_type": "code",
   "execution_count": 252,
   "id": "9880267e-8854-4f9e-9be0-859a1fbb2e35",
   "metadata": {},
   "outputs": [
    {
     "data": {
      "text/plain": [
       "array([0, 1, 1, 0, 1, 0, 0, 1, 0, 1])"
      ]
     },
     "execution_count": 252,
     "metadata": {},
     "output_type": "execute_result"
    }
   ],
   "source": [
    "np.where(b%2==0,1,0)"
   ]
  },
  {
   "cell_type": "code",
   "execution_count": 254,
   "id": "190e2192-5dae-4abf-a22a-51c2ffe757e9",
   "metadata": {},
   "outputs": [
    {
     "data": {
      "text/plain": [
       "array([[15, 36],\n",
       "       [13, 46],\n",
       "       [ 8, 41],\n",
       "       [ 1, 32],\n",
       "       [33, 36]])"
      ]
     },
     "execution_count": 254,
     "metadata": {},
     "output_type": "execute_result"
    }
   ],
   "source": [
    "a=np.sort(a)\n",
    "a"
   ]
  },
  {
   "cell_type": "code",
   "execution_count": 255,
   "id": "f4dbec64-96e8-44cc-a1d2-940bdf7a4082",
   "metadata": {},
   "outputs": [
    {
     "data": {
      "text/plain": [
       "np.float64(13.5)"
      ]
     },
     "execution_count": 255,
     "metadata": {},
     "output_type": "execute_result"
    }
   ],
   "source": [
    "np.percentile(a,25)"
   ]
  },
  {
   "cell_type": "code",
   "execution_count": null,
   "id": "222854c1-e324-4a01-b894-9cae7ecd328f",
   "metadata": {},
   "outputs": [],
   "source": []
  }
 ],
 "metadata": {
  "kernelspec": {
   "display_name": "Python 3 (ipykernel)",
   "language": "python",
   "name": "python3"
  },
  "language_info": {
   "codemirror_mode": {
    "name": "ipython",
    "version": 3
   },
   "file_extension": ".py",
   "mimetype": "text/x-python",
   "name": "python",
   "nbconvert_exporter": "python",
   "pygments_lexer": "ipython3",
   "version": "3.13.5"
  },
  "panel-cell-order": [
   "2708a671-75c1-46cf-afef-873ec1077bbd",
   "c7a28882-e053-425b-a097-d97b3b2380a5",
   "dd37fcfc-6651-452f-82ff-0c6d19bdfcc2",
   "9c2c5d45-b9ef-46d8-8bbc-a8a6bb49f5bc",
   "4e501d18-11d4-4018-a006-d50d811f2bd9",
   "19fe62b3-2e96-4a8e-9243-c41a0bfc84e0",
   "fc80be55-1fff-44d4-8697-b906073e96a9",
   "a9614cbb-c7ab-4cab-8a31-9335ca9f79a9",
   "0d3a1c27-758e-452b-8e48-534a027f1038",
   "1936cca6-dbb3-48b7-8c13-9342faf3a10e",
   "12800b71-e0b6-44ae-96c0-f49f69c825a5",
   "d150ca91-eeff-4095-9a21-278155fc89b1"
  ]
 },
 "nbformat": 4,
 "nbformat_minor": 5
}
